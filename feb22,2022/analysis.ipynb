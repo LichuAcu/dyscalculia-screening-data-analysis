{
 "cells": [
  {
   "cell_type": "markdown",
   "metadata": {},
   "source": [
    "# Initiate DataFrame and utilities"
   ]
  },
  {
   "cell_type": "code",
   "execution_count": 1,
   "metadata": {},
   "outputs": [],
   "source": [
    "import seaborn as sns\n",
    "import pandas as pd\n",
    "from datetime import datetime\n",
    "import numpy as np\n",
    "import matplotlib.pyplot as plt\n",
    "from pptx import Presentation\n",
    "import os\n",
    "\n",
    "df = pd.read_csv('../data.csv')\n",
    "\n",
    "def calc_age(row):\n",
    "    test_date = datetime.strptime(row.loc[\"test_date\"].split('T')[0], \"%Y-%m-%d\")\n",
    "    birthdate = datetime.strptime(row.loc[\"birthdate\"].split('T')[0], \"%Y-%m-%d\")\n",
    "    age = test_date - birthdate\n",
    "    return age.days\n",
    "    \n",
    "df[\"age\"] = df.apply(calc_age, axis=1)\n",
    "\n",
    "df = df.loc[(df.age // 365.25 <= 8) & (df.age // 365.25 >= 5)]"
   ]
  },
  {
   "cell_type": "code",
   "execution_count": 2,
   "metadata": {},
   "outputs": [],
   "source": [
    "# (subtest_lower, subtest, start, end)\n",
    "subtests = [\n",
    "    ('dots-comparison', 'Dots Comparison', 1, 10),\n",
    "    ('match-sample', 'Match Sample', 2, 10),\n",
    "    ('match-sample-rotate', 'Match Sample Rotate', 2, 10),\n",
    "    ('match-points-number', 'Match Points Number', 1, 10),\n",
    "    ('symbolic-magnitude', 'Symbolic Magnitude', 1, 10),\n",
    "    ('numeric-line', 'Numeric Line', 1, 10),\n",
    "    ('counting', 'Counting Forward', 1, 9),\n",
    "    ('counting-true', 'Counting Backward', 1, 19),\n",
    "    ('simple-arithmetic-plus', 'Simple Arithmetic Plus', 1, 10),\n",
    "    ('simple-arithmetic-minus', 'Simple Arithmetic Minus', 1, 20),\n",
    "]"
   ]
  },
  {
   "cell_type": "code",
   "execution_count": 3,
   "metadata": {},
   "outputs": [],
   "source": [
    "subtests_list = ['dots-comparison','match-sample','match-sample-rotate','match-points-number','symbolic-magnitude','numeric-line','counting','counting-true','simple-arithmetic-plus','simple-arithmetic-minus']\n",
    "\n",
    "subtest_title = {}\n",
    "for subtest in subtests_list:\n",
    "    subtest_title[subtest] = subtest.replace('-', ' ').title()\n",
    "\n",
    "subtest_title[\"counting\"] = \"Counting Forward\"\n",
    "subtest_title[\"counting-true\"] = \"Counting Backward\""
   ]
  },
  {
   "cell_type": "markdown",
   "metadata": {},
   "source": [
    "# Metrics"
   ]
  },
  {
   "cell_type": "code",
   "execution_count": 4,
   "metadata": {},
   "outputs": [],
   "source": [
    "# we first calculate the average RT when the patient's answer is correct\n",
    "def calc_rt_correct(row, subtest_lower, start=1, end=10):\n",
    "    RTs_correct = []\n",
    "    for i in range(start, end+1):\n",
    "        if(row[f\"{subtest_lower}_{i}_user_score\"] == 1 and np.isnan(row[f\"{subtest_lower}_{i}_time\"]) == False and np.isnan(row[f\"{subtest_lower}_{i}_user_score\"]) == False):\n",
    "            RTs_correct.append(row[f\"{subtest_lower}_{i}_time\"])\n",
    "    return np.mean(RTs_correct)"
   ]
  },
  {
   "cell_type": "code",
   "execution_count": 5,
   "metadata": {},
   "outputs": [
    {
     "name": "stderr",
     "output_type": "stream",
     "text": [
      "C:\\Users\\User\\AppData\\Local\\Programs\\Python\\Python39\\lib\\site-packages\\numpy\\core\\fromnumeric.py:3440: RuntimeWarning: Mean of empty slice.\n",
      "  return _methods._mean(a, axis=axis, dtype=dtype,\n",
      "C:\\Users\\User\\AppData\\Local\\Programs\\Python\\Python39\\lib\\site-packages\\numpy\\core\\_methods.py:189: RuntimeWarning: invalid value encountered in double_scalars\n",
      "  ret = ret.dtype.type(ret / rcount)\n"
     ]
    }
   ],
   "source": [
    "for subtest in subtests:\n",
    "    df[f\"{subtest[0]}_RT_correct\"] = df.apply(calc_rt_correct, axis=1, subtest_lower=subtest[0], start=subtest[2], end=subtest[3])"
   ]
  },
  {
   "cell_type": "code",
   "execution_count": 6,
   "metadata": {},
   "outputs": [],
   "source": [
    "# calculate IES correct (in the initial IES, RT instead of RT_correct is used)\n",
    "# Vandierendonck, 2018\n",
    "\n",
    "for subtest in subtests:\n",
    "    df[f\"{subtest[0]}_IES_correct\"] = df[f\"{subtest[0]}_RT_correct\"] / df[f\"{subtest[0]}_accuracy\"]"
   ]
  },
  {
   "cell_type": "code",
   "execution_count": 7,
   "metadata": {},
   "outputs": [],
   "source": [
    "# calculate RCS\n",
    "# Vandierendonck, 2018\n",
    "\n",
    "for subtest in subtests:\n",
    "    df[f\"{subtest[0]}_RCS\"] = df[f\"{subtest[0]}_accuracy\"] / (df[f\"{subtest[0]}_RT\"] / 1000)"
   ]
  },
  {
   "cell_type": "code",
   "execution_count": 8,
   "metadata": {},
   "outputs": [],
   "source": [
    "# general-purpouse function to calculate standard deviations\n",
    "\n",
    "def calc_sd(row, metric, subtest_lower, start=1, end=10, only_correct=False):\n",
    "    individuals = []\n",
    "    for i in range(start,end+1):\n",
    "        if(np.isnan(row[f\"{subtest_lower}_{i}_time\"]) == False and np.isnan(row[f\"{subtest_lower}_{i}_user_score\"]) == False):\n",
    "            if(only_correct):\n",
    "                if(row[f\"{subtest_lower}_{i}_user_score\"] == 1):\n",
    "                    # metric = time\n",
    "                    individuals.append(row[f\"{subtest_lower}_{i}_{metric}\"])\n",
    "            else:\n",
    "                individuals.append(row[f\"{subtest_lower}_{i}_{metric}\"])\n",
    "    return np.std(individuals)"
   ]
  },
  {
   "cell_type": "code",
   "execution_count": 9,
   "metadata": {},
   "outputs": [
    {
     "name": "stderr",
     "output_type": "stream",
     "text": [
      "C:\\Users\\User\\AppData\\Local\\Programs\\Python\\Python39\\lib\\site-packages\\numpy\\core\\_methods.py:262: RuntimeWarning: Degrees of freedom <= 0 for slice\n",
      "  ret = _var(a, axis=axis, dtype=dtype, out=out, ddof=ddof,\n",
      "C:\\Users\\User\\AppData\\Local\\Programs\\Python\\Python39\\lib\\site-packages\\numpy\\core\\_methods.py:222: RuntimeWarning: invalid value encountered in true_divide\n",
      "  arrmean = um.true_divide(arrmean, div, out=arrmean, casting='unsafe',\n",
      "C:\\Users\\User\\AppData\\Local\\Programs\\Python\\Python39\\lib\\site-packages\\numpy\\core\\_methods.py:254: RuntimeWarning: invalid value encountered in double_scalars\n",
      "  ret = ret.dtype.type(ret / rcount)\n"
     ]
    }
   ],
   "source": [
    "for subtest in subtests:\n",
    "    df[f\"{subtest[0]}_RT_SD\"] = df.apply(calc_sd, axis=1, metric=\"time\", subtest_lower=subtest[0], start=subtest[2], end=subtest[3])\n",
    "    df[f\"{subtest[0]}_SCORE_SD\"] = df.apply(calc_sd, axis=1, metric=\"user_score\", subtest_lower=subtest[0], start=subtest[2], end=subtest[3])\n",
    "    df[f\"{subtest[0]}_RT_correct_SD\"] = df.apply(calc_sd, axis=1, metric=\"time\", subtest_lower=subtest[0], start=subtest[2], end=subtest[3], only_correct=True)"
   ]
  },
  {
   "cell_type": "code",
   "execution_count": 10,
   "metadata": {},
   "outputs": [],
   "source": [
    "# calculate LISAS scores\n",
    "\n",
    "for subtest in subtests:\n",
    "    # LISAS for overall metrics\n",
    "    df[f\"{subtest[0]}_LISAS\"] = df[f\"{subtest[0]}_RT\"] + df[f\"{subtest[0]}_accuracy\"] * (df[f\"{subtest[0]}_RT_SD\"] / df[f\"{subtest[0]}_SCORE_SD\"])\n",
    "    df.loc[df[f\"{subtest[0]}_SCORE_SD\"] == 0, f\"{subtest[0]}_LISAS\"] = df[f\"{subtest[0]}_RT\"]\n",
    "    \n",
    "    # LISAS for correct answers\n",
    "    df[f\"{subtest[0]}_LISAS_correct\"] = df[f\"{subtest[0]}_RT_correct\"] + df[f\"{subtest[0]}_accuracy\"] * (df[f\"{subtest[0]}_RT_correct_SD\"] / df[f\"{subtest[0]}_SCORE_SD\"])\n",
    "    df.loc[df[f\"{subtest[0]}_SCORE_SD\"] == 0, f\"{subtest[0]}_LISAS_correct\"] = df[f\"{subtest[0]}_RT_correct\"]"
   ]
  },
  {
   "cell_type": "markdown",
   "metadata": {},
   "source": [
    "# Tables"
   ]
  },
  {
   "cell_type": "markdown",
   "metadata": {},
   "source": [
    "## General"
   ]
  },
  {
   "cell_type": "code",
   "execution_count": 43,
   "metadata": {},
   "outputs": [],
   "source": [
    "writer = pd.ExcelWriter(\"tables/metrics.xlsx\", engine = 'xlsxwriter')\n",
    "\n",
    "for subtest in subtests:\n",
    "    columns = [\"5 y/o\", \"6 y/o\", \"7 y/o\", \"8 y/o\"]\n",
    "    rows = [\"LISAS\", \"LISAS when accurate\", \"IES\", \"IES when accurate\", \"RCS\", \"Accuracy\", \"RT\"]\n",
    "    df_subtest = pd.DataFrame(columns = columns, index = rows)\n",
    "    for age in range(5,9):\n",
    "        df_subtest.loc[\"LISAS\", f\"{age} y/o\"] = df.loc[df.age // 365.25 == age, f\"{subtest[0]}_LISAS\"].mean()\n",
    "        df_subtest.loc[\"LISAS when accurate\", f\"{age} y/o\"] = df.loc[df.age // 365.25 == age, f\"{subtest[0]}_LISAS_correct\"].mean()\n",
    "        df_subtest.loc[\"IES\", f\"{age} y/o\"] = df.loc[df.age // 365.25 == age, f\"{subtest[0]}_IES\"].mean()\n",
    "        df_subtest.loc[\"IES when accurate\", f\"{age} y/o\"] = df.loc[df.age // 365.25 == age, f\"{subtest[0]}_IES_correct\"].mean()\n",
    "        df_subtest.loc[\"RCS\", f\"{age} y/o\"] = df.loc[df.age // 365.25 == age, f\"{subtest[0]}_RCS\"].mean()\n",
    "        df_subtest.loc[\"Accuracy\", f\"{age} y/o\"] = df.loc[df.age // 365.25 == age, f\"{subtest[0]}_accuracy\"].mean()\n",
    "        df_subtest.loc[\"RT\", f\"{age} y/o\"] = df.loc[df.age // 365.25 == age, f\"{subtest[0]}_RT\"].mean()\n",
    "    df_subtest.to_excel(writer, sheet_name = subtest[1].replace(\" \", \"-\").lower())\n",
    "\n",
    "writer.save()\n",
    "writer.close()"
   ]
  },
  {
   "cell_type": "markdown",
   "metadata": {},
   "source": [
    "## Correlation matrices"
   ]
  },
  {
   "cell_type": "code",
   "execution_count": 35,
   "metadata": {},
   "outputs": [],
   "source": [
    "df_LISAS = df.loc[:,(col for col in df.columns if \"LISAS\" in col and \"correct\" not in col)]\n",
    "df_LISAS.corr().to_excel(\"tables/LISAS_correlation.xlsx\")\n",
    "\n",
    "df_LISAS_correct = df.loc[:,(col for col in df.columns if \"LISAS\" in col and \"correct\" in col)]\n",
    "df_LISAS_correct.corr().to_excel(\"tables/LISAS_correct_correlation.xlsx\")\n",
    "\n",
    "df_IES = df.loc[:,(col for col in df.columns if \"IES\" in col and \"correct\" not in col)]\n",
    "df_IES.corr().to_excel(\"tables/IES_correlation.xlsx\")\n",
    "\n",
    "df_IES_correct = df.loc[:,(col for col in df.columns if \"IES\" in col and \"correct\" in col)]\n",
    "df_IES_correct.corr().to_excel(\"tables/IES_correct_correlation.xlsx\")\n",
    "\n",
    "df_RCS = df.loc[:,(col for col in df.columns if \"RCS\" in col)]\n",
    "df_RCS.corr().to_excel(\"tables/RCS_correlation.xlsx\")"
   ]
  },
  {
   "cell_type": "markdown",
   "metadata": {},
   "source": [
    "# Charts"
   ]
  },
  {
   "cell_type": "markdown",
   "metadata": {},
   "source": [
    "_\"Individual\"_ means each subtest individually.\n",
    "\n",
    "_\"General\"_ means all subtests together."
   ]
  },
  {
   "cell_type": "markdown",
   "metadata": {},
   "source": [
    "## Individual"
   ]
  },
  {
   "cell_type": "code",
   "execution_count": 36,
   "metadata": {},
   "outputs": [
    {
     "data": {
      "text/plain": [
       "<Figure size 432x288 with 0 Axes>"
      ]
     },
     "metadata": {},
     "output_type": "display_data"
    }
   ],
   "source": [
    "# normal plots\n",
    "\n",
    "for subtest in subtests:\n",
    "    dir_charts = \"charts/\" + subtest[1].replace(\" \", \"-\").lower() + \"/\"\n",
    "    if not os.path.exists(dir_charts):\n",
    "        os.makedirs(dir_charts)\n",
    "\n",
    "    plt.title(f\"{subtest[1]} LISAS by age\")\n",
    "    plt.xlabel(\"Age\")\n",
    "    plt.ylabel(\"Average LISAS\")\n",
    "\n",
    "    ages = [5,6,7,8]\n",
    "    x_labels = [\"5 y/o\", \"6 y/o\", \"7 y/o\", \"8 y/o\"]\n",
    "\n",
    "    # graph LISAS\n",
    "    y_points_LISAS_overall = [df.loc[df.age // 365.25 == age, f\"{subtest[0]}_LISAS\"].mean() for age in ages]\n",
    "    plt.plot(x_labels, y_points_LISAS_overall, label=\"General\")\n",
    "    y_points_LISAS_correct = [df.loc[df.age // 365.25 == age, f\"{subtest[0]}_LISAS_correct\"].mean() for age in ages]\n",
    "    plt.plot(x_labels, y_points_LISAS_correct, label=\"When accurate\")\n",
    "\n",
    "    plt.legend()\n",
    "    plt.savefig(dir_charts + f\"{subtest[1]} LISAS by age\".replace(\" \", \"-\").lower() + \".png\")\n",
    "    plt.clf()\n",
    "\n",
    "    # graph IES\n",
    "    plt.title(f\"{subtest[1]} IES by age\")\n",
    "    plt.xlabel(\"Age\")\n",
    "    plt.ylabel(\"Average IES\")\n",
    "\n",
    "    y_points_IES_overall = [df.loc[df.age // 365.25 == age, f\"{subtest[0]}_IES\"].mean() for age in ages]\n",
    "    plt.plot(x_labels, y_points_IES_overall, label=\"General\")\n",
    "    y_points_IES_correct = [df.loc[df.age // 365.25 == age, f\"{subtest[0]}_IES_correct\"].mean() for age in ages]\n",
    "    plt.plot(x_labels, y_points_IES_correct, label=\"When accurate\")\n",
    "    \n",
    "    plt.legend()\n",
    "    plt.savefig(dir_charts + f\"{subtest[1]} IES by age\".replace(\" \", \"-\").lower() + \".png\")\n",
    "    plt.clf()\n",
    "\n",
    "    # graph RCS\n",
    "    plt.title(f\"{subtest[1]} RCS by age\")\n",
    "    plt.xlabel(\"Age\")\n",
    "    plt.ylabel(\"Average RCS\")\n",
    "\n",
    "    y_points_IES = [df.loc[df.age // 365.25 == age, f\"{subtest[0]}_RCS\"].mean() for age in ages]\n",
    "    plt.plot(x_labels, y_points_IES)\n",
    "    plt.savefig(dir_charts + f\"{subtest[1]} RCS by age\".replace(\" \", \"-\").lower() + \".png\")\n",
    "    plt.clf()"
   ]
  },
  {
   "cell_type": "code",
   "execution_count": 79,
   "metadata": {},
   "outputs": [
    {
     "data": {
      "text/plain": [
       "<Figure size 432x288 with 0 Axes>"
      ]
     },
     "metadata": {},
     "output_type": "display_data"
    }
   ],
   "source": [
    "# box plots\n",
    "\n",
    "for subtest in subtests:\n",
    "    dir_charts = \"charts/\" + subtest[1].replace(\" \", \"-\").lower() + \"/\"\n",
    "    if not os.path.exists(dir_charts):\n",
    "        os.makedirs(dir_charts)\n",
    "\n",
    "    plt.xlabel(\"Age (years)\")\n",
    "\n",
    "    ages = [5,6,7,8]\n",
    "    x_labels = [\"5 y/o\", \"6 y/o\", \"7 y/o\", \"8 y/o\"]\n",
    "\n",
    "    for metric in [\"LISAS\", \"LISAS correct\", \"IES\", \"IES correct\", \"RCS\"]:\n",
    "        plt.title(f\"{subtest[1]} {metric} by age\".replace(\"correct\", \"when accurate\"))\n",
    "        plt.ylabel(f\"Average {metric}\".replace(\"correct\", \"when accurate\"))\n",
    "        scores_by_age = []\n",
    "        for age in ages:\n",
    "            scores_by_age.append(df.loc[df.age // 365.25 == age, f\"{subtest[0]}_{metric.replace(' ', '_')}\"])\n",
    "        scores_by_age_df = pd.DataFrame({\"5\": scores_by_age[0], \"6\": scores_by_age[1], \"7\": scores_by_age[2], \"8\": scores_by_age[3]})\n",
    "        boxplot = scores_by_age_df.boxplot(showmeans = True, meanprops={\"marker\":\"o\", \"markerfacecolor\":\"blue\", \"markeredgecolor\":\"blue\", \"markersize\":\"3\"})\n",
    "        plt.savefig(\"charts/\" + subtest[1].replace(\" \", \"-\").lower() + f\"/{subtest[1].replace(' ', '-').lower()}_\" + metric.replace(\" \", \"_\") + \"_boxplot.png\", bbox_inches='tight')\n",
    "        plt.clf()"
   ]
  },
  {
   "cell_type": "markdown",
   "metadata": {},
   "source": [
    "## General"
   ]
  },
  {
   "cell_type": "code",
   "execution_count": 37,
   "metadata": {},
   "outputs": [
    {
     "data": {
      "text/plain": [
       "<Figure size 432x288 with 0 Axes>"
      ]
     },
     "metadata": {},
     "output_type": "display_data"
    }
   ],
   "source": [
    "# standard plots\n",
    "flierprops = dict(marker='o', markersize=2, linestyle='none')\n",
    "\n",
    "for metric in [\"LISAS\", \"LISAS correct\", \"IES\", \"IES correct\", \"RCS\"]:\n",
    "    df_metric = pd.DataFrame()\n",
    "    if \"correct\" in metric:\n",
    "        df_metric = df.loc[:,(col for col in df.columns if metric.split(\" \")[0] in col and \"correct\" in col)]\n",
    "    else:\n",
    "        df_metric = df.loc[:,(col for col in df.columns if metric in col and \"correct\" not in col)]\n",
    "    df_metric=(df_metric-df_metric.mean())/df_metric.std()\n",
    "    df_metric.columns = [subtest_title[col.split(\"_\")[0]] for col in df_metric.columns]\n",
    "    boxplot = df_metric.boxplot(flierprops=flierprops, vert=False)\n",
    "    # plt.title(metric)\n",
    "    plt.savefig(\"charts/\" + metric.replace(\" \", \"_\") + \"_boxplot.png\", bbox_inches='tight')\n",
    "    plt.clf()"
   ]
  },
  {
   "cell_type": "markdown",
   "metadata": {},
   "source": [
    "# Presentation"
   ]
  },
  {
   "cell_type": "code",
   "execution_count": 55,
   "metadata": {},
   "outputs": [],
   "source": [
    "def add_slide(picture_path, title, subtitle, slide_index=0):\n",
    "    slide = prs.slides.add_slide(prs.slide_layouts[slide_index])\n",
    "    subtest_title = slide.placeholders[0]\n",
    "    chart = slide.placeholders[13]\n",
    "    metric_measured = slide.placeholders[14]\n",
    "    \n",
    "    chart.insert_picture(picture_path)\n",
    "    subtest_title.text = title\n",
    "    metric_measured.text = subtitle"
   ]
  },
  {
   "cell_type": "code",
   "execution_count": 62,
   "metadata": {},
   "outputs": [],
   "source": [
    "# original presentation\n",
    "\n",
    "prs = Presentation('presentation.pptx')\n",
    "\n",
    "for subtest in subtests:\n",
    "    dir_charts = \"charts/\" + subtest[1].replace(\" \", \"-\").lower() + \"/\"\n",
    "    add_slide(dir_charts + f\"{subtest[1]} LISAS by age\".replace(\" \", \"-\").lower() + \".png\", subtest[1], \"LISAS by age\")\n",
    "    add_slide(dir_charts + f\"{subtest[1]} IES by age\".replace(\" \", \"-\").lower() + \".png\", subtest[1], \"IES by age\")\n",
    "    add_slide(dir_charts + f\"{subtest[1]} RCS by age\".replace(\" \", \"-\").lower() + \".png\", subtest[1], \"RCS by age\")\n",
    "    add_slide(\"../jan18,2022/charts/\" + subtest[1].replace(\" \", \"-\").lower() + \"/\" + subtest[1].replace(\" \", \"-\").lower() + \"_general_rt.png\", subtest[1], \"RT by age\")\n",
    "    add_slide(\"../jan18,2022/charts/\" + subtest[1].replace(\" \", \"-\").lower() + \"/\" + subtest[1].replace(\" \", \"-\").lower() + \"_general_accuracy.png\", subtest[1], \"Accuracy by age\")\n",
    "\n",
    "for metric in [\"LISAS\", \"LISAS correct\", \"IES\", \"IES correct\", \"RCS\"]:\n",
    "    add_slide(\"charts/\" + metric.replace(\" \", \"_\") + \"_boxplot.png\", metric, \"Box plot by subtest\", slide_index=1)\n",
    "\n",
    "prs.save('presentation.pptx')"
   ]
  },
  {
   "cell_type": "code",
   "execution_count": 80,
   "metadata": {},
   "outputs": [],
   "source": [
    "# presentation update using boxplots\n",
    "\n",
    "prs = Presentation('presentation_update.pptx')\n",
    "\n",
    "for subtest in subtests:\n",
    "    dir_charts = \"charts/\" + subtest[1].replace(\" \", \"-\").lower() + \"/\"\n",
    "    add_slide(dir_charts + subtest[1].replace(\" \", \"-\").lower() + \"_LISAS_boxplot.png\", subtest[1], \"LISAS by age\")\n",
    "    add_slide(dir_charts + subtest[1].replace(\" \", \"-\").lower() + \"_LISAS_correct_boxplot.png\", subtest[1], \"LISAS when accurate by age\")\n",
    "    add_slide(dir_charts + subtest[1].replace(\" \", \"-\").lower() + \"_IES_boxplot.png\", subtest[1], \"IES by age\")\n",
    "    add_slide(dir_charts + subtest[1].replace(\" \", \"-\").lower() + \"_IES_correct_boxplot.png\", subtest[1], \"IES when accurate by age\")\n",
    "    add_slide(dir_charts + subtest[1].replace(\" \", \"-\").lower() + \"_RCS_boxplot.png\", subtest[1], \"RCS by age\")\n",
    "\n",
    "prs.save('presentation_update.pptx')"
   ]
  },
  {
   "cell_type": "markdown",
   "metadata": {},
   "source": [
    "# Export separate data"
   ]
  },
  {
   "cell_type": "code",
   "execution_count": 40,
   "metadata": {},
   "outputs": [],
   "source": [
    "df_LISAS = df.loc[:,(col for col in df.columns if \"LISAS\" in col and \"correct\" not in col)]\n",
    "df_LISAS.to_excel(\"tables/dataframes/LISAS.xlsx\")\n",
    "df_LISAS.to_csv(\"tables/dataframes/LISAS.csv\")\n",
    "\n",
    "df_LISAS_correct = df.loc[:,(col for col in df.columns if \"LISAS\" in col and \"correct\" in col)]\n",
    "df_LISAS_correct.to_excel(\"tables/dataframes/LISAS_correct.xlsx\")\n",
    "df_LISAS_correct.to_csv(\"tables/dataframes/LISAS_correct.csv\")\n",
    "\n",
    "df_IES = df.loc[:,(col for col in df.columns if \"IES\" in col and \"correct\" not in col)]\n",
    "df_IES.to_excel(\"tables/dataframes/IES.xlsx\")\n",
    "df_IES.to_csv(\"tables/dataframes/IES.csv\")\n",
    "\n",
    "df_IES_correct = df.loc[:,(col for col in df.columns if \"IES\" in col and \"correct\" in col)]\n",
    "df_IES_correct.to_excel(\"tables/dataframes/IES_correct.xlsx\")\n",
    "df_IES_correct.to_csv(\"tables/dataframes/IES_correct.csv\")\n",
    "\n",
    "df_RCS = df.loc[:,(col for col in df.columns if \"RCS\" in col)]\n",
    "df_RCS.to_excel(\"tables/dataframes/RCS.xlsx\")\n",
    "df_RCS.to_csv(\"tables/dataframes/RCS.csv\")\n"
   ]
  },
  {
   "cell_type": "markdown",
   "metadata": {},
   "source": [
    "# Extra"
   ]
  },
  {
   "cell_type": "markdown",
   "metadata": {},
   "source": [
    "## Compare outliers"
   ]
  },
  {
   "cell_type": "code",
   "execution_count": 17,
   "metadata": {},
   "outputs": [
    {
     "name": "stderr",
     "output_type": "stream",
     "text": [
      "C:\\Users\\User\\AppData\\Local\\Programs\\Python\\Python39\\lib\\site-packages\\xlsxwriter\\workbook.py:339: UserWarning: Calling close() on already closed file.\n",
      "  warn(\"Calling close() on already closed file.\")\n"
     ]
    }
   ],
   "source": [
    "from scipy import stats\n",
    "\n",
    "writer_ids = pd.ExcelWriter(\"tables/outliers_uncolored.xlsx\", engine = 'xlsxwriter')\n",
    "writer_counts = pd.ExcelWriter(\"tables/outliers_counts.xlsx\", engine = 'xlsxwriter')\n",
    "\n",
    "for metric in [\"LISAS\", \"LISAS correct\", \"IES\", \"IES correct\", \"RCS\"]:\n",
    "    df_outliers = pd.DataFrame()\n",
    "    for idx, subtest in enumerate(subtests):\n",
    "        z = pd.Series(stats.zscore(df[f\"{subtest[0]}_{metric.replace(' ', '_')}\"], nan_policy=\"omit\"))\n",
    "        Q1 = z.quantile(0.25)\n",
    "        Q3 = z.quantile(0.75)\n",
    "        IQR = Q3 - Q1\n",
    "        outliers = z[z > Q3 + 1.5 * IQR]\n",
    "        series_outliers = pd.Series(outliers.index, name=subtest[1])\n",
    "        df_outliers = pd.concat([df_outliers, series_outliers], axis=1)\n",
    "    df_outliers.to_excel(writer_ids, sheet_name = metric, index=False)\n",
    "\n",
    "    counted_values = df_outliers[df_outliers.columns[0]].value_counts()\n",
    "    for column in df_outliers.columns[1:]:\n",
    "        counted_values = counted_values.add(df_outliers[column].value_counts(), fill_value=0)\n",
    "    counted_values.sort_values(ascending=False).to_excel(writer_counts, sheet_name = metric)\n",
    "\n",
    "writer_ids.save()\n",
    "writer_ids.close()\n",
    "writer_counts.save()\n",
    "writer_counts.close()"
   ]
  },
  {
   "cell_type": "code",
   "execution_count": 78,
   "metadata": {},
   "outputs": [],
   "source": [
    "counted_values = df_outliers[df_outliers.columns[0]].value_counts()\n",
    "\n",
    "for column in df_outliers.columns[1:]:\n",
    "    counted_values = counted_values.add(df_outliers[column].value_counts(), fill_value=0)\n",
    "\n",
    "counted_values.sort_values(ascending=False).to_excel(\"documents/outliers_counted.xlsx\")"
   ]
  }
 ],
 "metadata": {
  "interpreter": {
   "hash": "2647ea34e536f865ab67ff9ddee7fd78773d956cec0cab53c79b32cd10da5d83"
  },
  "kernelspec": {
   "display_name": "Python 3.9.7 64-bit",
   "language": "python",
   "name": "python3"
  },
  "language_info": {
   "codemirror_mode": {
    "name": "ipython",
    "version": 3
   },
   "file_extension": ".py",
   "mimetype": "text/x-python",
   "name": "python",
   "nbconvert_exporter": "python",
   "pygments_lexer": "ipython3",
   "version": "3.9.7"
  },
  "orig_nbformat": 4
 },
 "nbformat": 4,
 "nbformat_minor": 2
}
