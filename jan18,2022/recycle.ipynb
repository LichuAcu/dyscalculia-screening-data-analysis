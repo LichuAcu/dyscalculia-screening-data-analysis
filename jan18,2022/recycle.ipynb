{
 "cells": [
  {
   "cell_type": "code",
   "execution_count": null,
   "metadata": {},
   "outputs": [],
   "source": [
    "prettify_ratio = {}\n",
    "for i in range(1,9):\n",
    "    prettify_ratio[0.1 * i] = f\"{round(0.1 * i,2)}-{round(0.1 * i,2)}9\"\n",
    "rows = [prettify_ratio[0.1 * i] for i in range(1,9)]\n",
    "cols = [f\"{age} y/o RT mean\" for age in range(5,9)] + [f\"{age} y/o RT std\" for age in range(5,9)]\n",
    "cols.sort()\n",
    "df_dots_comparison_rt_age_ratio = pd.DataFrame(index=rows, columns=cols)"
   ]
  }
 ],
 "metadata": {
  "language_info": {
   "name": "python"
  },
  "orig_nbformat": 4
 },
 "nbformat": 4,
 "nbformat_minor": 2
}
